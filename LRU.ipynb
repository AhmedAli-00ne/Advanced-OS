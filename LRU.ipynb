{
 "cells": [
  {
   "cell_type": "code",
   "execution_count": 2,
   "metadata": {},
   "outputs": [
    {
     "name": "stdout",
     "output_type": "stream",
     "text": [
      "Frame after step 1 : {10}\n",
      "Frame after step 2 : {10, 20}\n",
      "Frame after step 3 : {10, 20, 30}\n",
      "Frame after step 4 : {20, 50, 30}\n",
      "Page Faults: ([{10}, {10, 20}, {10, 20, 30}, {50, 20, 30}], 4)\n"
     ]
    }
   ],
   "source": [
    "def LRU(pages, capacity):\n",
    "    s = set()\n",
    "    indexes = {}\n",
    "    n = len(pages)\n",
    "    page_faults = 0\n",
    "    history = []\n",
    "    for i in range(n):\n",
    "        if len(s) < capacity:\n",
    "            if pages[i] not in s:\n",
    "                s.add(pages[i])\n",
    "                page_faults += 1\n",
    "            indexes[pages[i]] = i\n",
    "        else:\n",
    "            if pages[i] not in s:\n",
    "                lru = float('inf')\n",
    "                for page in s:\n",
    "                    if indexes[page] < lru:\n",
    "                        lru = indexes[page]\n",
    "                        val = page\n",
    "                s.remove(val)\n",
    "                s.add(pages[i])\n",
    "                page_faults += 1\n",
    "            indexes[pages[i]] = i\n",
    "        print(\"Frame after step\", i+1, \":\", s)\n",
    "        history.append(s.copy())\n",
    "    return history, page_faults\n",
    "\n",
    "\n"
   ]
  }
 ],
 "metadata": {
  "kernelspec": {
   "display_name": "Python 3",
   "language": "python",
   "name": "python3"
  },
  "language_info": {
   "codemirror_mode": {
    "name": "ipython",
    "version": 3
   },
   "file_extension": ".py",
   "mimetype": "text/x-python",
   "name": "python",
   "nbconvert_exporter": "python",
   "pygments_lexer": "ipython3",
   "version": "3.9.6"
  }
 },
 "nbformat": 4,
 "nbformat_minor": 2
}
